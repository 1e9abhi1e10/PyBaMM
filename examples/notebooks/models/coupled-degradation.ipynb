{
 "cells": [
  {
   "cell_type": "markdown",
   "id": "7008f034",
   "metadata": {},
   "source": [
    "# Modelling coupled degradation mechanisms in PyBaMM\n",
    "\n",
    "This notebook shows how to set up a PyBaMM model in which many degradation mechanisms run at the same time and interact with one another."
   ]
  },
  {
   "cell_type": "code",
   "execution_count": 1,
   "id": "17767d1a",
   "metadata": {},
   "outputs": [
    {
     "name": "stdout",
     "output_type": "stream",
     "text": [
      "\n",
      "\u001b[1m[\u001b[0m\u001b[34;49mnotice\u001b[0m\u001b[1;39;49m]\u001b[0m\u001b[39;49m A new release of pip available: \u001b[0m\u001b[31;49m22.3.1\u001b[0m\u001b[39;49m -> \u001b[0m\u001b[32;49m23.1.2\u001b[0m\n",
      "\u001b[1m[\u001b[0m\u001b[34;49mnotice\u001b[0m\u001b[1;39;49m]\u001b[0m\u001b[39;49m To update, run: \u001b[0m\u001b[32;49mpip install --upgrade pip\u001b[0m\n",
      "Note: you may need to restart the kernel to use updated packages.\n"
     ]
    }
   ],
   "source": [
    "%pip install pybamm -q    # install PyBaMM if it is not installed\n",
    "import pybamm\n",
    "import matplotlib.pyplot as plt\n",
    "import numpy as np"
   ]
  },
  {
   "cell_type": "markdown",
   "id": "a484509e",
   "metadata": {},
   "source": [
    "O'Kane et al. modelled four coupled degradation mechanisms: SEI growth, lithium plating, particle cracking and stress-driven loss of active material. The \"SEI on cracks\" option couples SEI growth and particle cracking by allowing SEI to grow on the cracks. The \"partially reversible\" option for lithium plating allows the SEI to influence the irreversible component of plating using a function in the OKane2022 parameter file. Particle cracking and stress-driven loss of active material are coupled by default because the stress-strain relations inside the particles are an input for both."
   ]
  },
  {
   "cell_type": "code",
   "execution_count": 2,
   "id": "ee67a29f",
   "metadata": {},
   "outputs": [],
   "source": [
    "model = pybamm.lithium_ion.DFN(\n",
    "    {\n",
    "        \"SEI\": \"solvent-diffusion limited\",\n",
    "        \"SEI porosity change\": \"true\",\n",
    "        \"lithium plating\": \"partially reversible\",\n",
    "        \"lithium plating porosity change\": \"true\",  # not required if \"SEI porosity change\" already set to \"true\"\n",
    "        \"particle mechanics\": (\"swelling and cracking\", \"swelling only\"),\n",
    "        \"SEI on cracks\": \"true\",\n",
    "        \"loss of active material\": \"stress-driven\",\n",
    "    }\n",
    ")"
   ]
  },
  {
   "cell_type": "markdown",
   "id": "5d85aaac",
   "metadata": {},
   "source": [
    "Depending on the parameter set being used, the particle cracking model can require a large number of mesh points inside the particles to be numerically stable."
   ]
  },
  {
   "cell_type": "code",
   "execution_count": 3,
   "id": "a4ac7774",
   "metadata": {},
   "outputs": [],
   "source": [
    "param = pybamm.ParameterValues(\"OKane2022\")\n",
    "var_pts = {\n",
    "    \"x_n\": 5,  # negative electrode\n",
    "    \"x_s\": 5,  # separator \n",
    "    \"x_p\": 5,  # positive electrode\n",
    "    \"r_n\": 30,  # negative particle\n",
    "    \"r_p\": 30,  # positive particle\n",
    "}"
   ]
  },
  {
   "cell_type": "markdown",
   "id": "03273e06",
   "metadata": {},
   "source": [
    "Define a cycling protocol and solve. The protocol from O'Kane et al (2022) is used here."
   ]
  },
  {
   "cell_type": "code",
   "execution_count": 4,
   "id": "23cab5d3",
   "metadata": {},
   "outputs": [
    {
     "name": "stderr",
     "output_type": "stream",
     "text": [
      "At t = 429.694 and h = 8.22097e-12, the corrector convergence failed repeatedly or with |h| = hmin.\n",
      "At t = 189.694 and h = 9.29241e-12, the corrector convergence failed repeatedly or with |h| = hmin.\n",
      "At t = 429.055 and h = 1.80513e-11, the corrector convergence failed repeatedly or with |h| = hmin.\n",
      "At t = 189.056 and h = 1.10586e-11, the corrector convergence failed repeatedly or with |h| = hmin.\n",
      "At t = 428.452 and h = 1.14514e-11, the corrector convergence failed repeatedly or with |h| = hmin.\n",
      "At t = 188.452 and h = 7.82525e-12, the corrector convergence failed repeatedly or with |h| = hmin.\n",
      "At t = 427.875 and h = 1.21404e-11, the corrector convergence failed repeatedly or with |h| = hmin.\n",
      "At t = 187.875 and h = 1.18816e-11, the corrector convergence failed repeatedly or with |h| = hmin.\n",
      "At t = 427.318 and h = 1.14594e-11, the corrector convergence failed repeatedly or with |h| = hmin.\n",
      "At t = 140.057 and h = 8.4999e-10, the corrector convergence failed repeatedly or with |h| = hmin.\n",
      "At t = 426.78 and h = 1.35392e-12, the corrector convergence failed repeatedly or with |h| = hmin.\n",
      "At t = 186.78 and h = 1.14865e-11, the corrector convergence failed repeatedly or with |h| = hmin.\n",
      "At t = 426.258 and h = 9.55058e-12, the corrector convergence failed repeatedly or with |h| = hmin.\n",
      "At t = 186.258 and h = 1.58381e-11, the corrector convergence failed repeatedly or with |h| = hmin.\n",
      "At t = 425.75 and h = 2.35458e-12, the corrector convergence failed repeatedly or with |h| = hmin.\n",
      "At t = 185.75 and h = 6.93339e-12, the corrector convergence failed repeatedly or with |h| = hmin.\n",
      "At t = 425.257 and h = 5.50903e-12, the corrector convergence failed repeatedly or with |h| = hmin.\n",
      "At t = 185.257 and h = 2.09523e-12, the corrector convergence failed repeatedly or with |h| = hmin.\n",
      "At t = 424.777 and h = 4.21029e-12, the corrector convergence failed repeatedly or with |h| = hmin.\n",
      "At t = 184.777 and h = 5.50688e-12, the corrector convergence failed repeatedly or with |h| = hmin.\n"
     ]
    }
   ],
   "source": [
    "cycle_number = 10\n",
    "exp = pybamm.Experiment(\n",
    "    [\"Hold at 4.2 V until C/100 (5 minute period)\",\n",
    "    \"Rest for 4 hours (5 minute period)\",\n",
    "    \"Discharge at 0.1C until 2.5 V (5 minute period)\",  # initial capacity check\n",
    "    \"Charge at 0.3C until 4.2 V (5 minute period)\",\n",
    "    \"Hold at 4.2 V until C/100 (5 minute period)\",]\n",
    "    + [(\"Discharge at 1C until 2.5 V\",  # ageing cycles\n",
    "    \"Charge at 0.3C until 4.2 V (5 minute period)\",\n",
    "    \"Hold at 4.2 V until C/100 (5 minute period)\",)] * cycle_number\n",
    "    + [\"Discharge at 0.1C until 2.5 V (5 minute period)\"]  # final capacity check\n",
    ")\n",
    "sim = pybamm.Simulation(model, parameter_values=param, experiment=exp, var_pts=var_pts)\n",
    "sol = sim.solve()"
   ]
  },
  {
   "cell_type": "code",
   "execution_count": 5,
   "id": "5ef3e369",
   "metadata": {},
   "outputs": [],
   "source": [
    "Qt = sol.summary_variables[\"Throughput capacity [A.h]\"]  # commonly used alternative to cycle number\n",
    "Q_SEI = sol.summary_variables[\"Loss of capacity to SEI [A.h]\"]\n",
    "Q_SEI_cr = sol.summary_variables[\"Loss of capacity to SEi on cracks [A.h]\"]\n",
    "Q_plating = sol.summary_variables[\"Loss of capacity to lithium plating [A.h]\"]\n",
    "LLI = sol.summary_variables"
   ]
  },
  {
   "cell_type": "code",
   "execution_count": null,
   "id": "7b7c23ec",
   "metadata": {},
   "outputs": [],
   "source": [
    "plt.rcParams.update({'font.size': 11})\n",
    "(fig, axs) = plt.subplots(nrows=3,ncols=2,figsize=(13,15))\n",
    "axs[0,0].plot()"
   ]
  }
 ],
 "metadata": {
  "kernelspec": {
   "display_name": "Python 3 (ipykernel)",
   "language": "python",
   "name": "python3"
  },
  "language_info": {
   "codemirror_mode": {
    "name": "ipython",
    "version": 3
   },
   "file_extension": ".py",
   "mimetype": "text/x-python",
   "name": "python",
   "nbconvert_exporter": "python",
   "pygments_lexer": "ipython3",
   "version": "3.8.10"
  }
 },
 "nbformat": 4,
 "nbformat_minor": 5
}
