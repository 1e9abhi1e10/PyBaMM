{
 "cells": [
  {
   "cell_type": "code",
   "execution_count": 1,
   "metadata": {},
   "outputs": [],
   "source": [
    "#%pip install pybamm -q    # install PyBaMM if it is not installed\n",
    "import pybamm"
   ]
  },
  {
   "cell_type": "code",
   "execution_count": 2,
   "metadata": {},
   "outputs": [],
   "source": [
    "CCruihe = pybamm.CC(\n",
    "    C_rate=\"1\",\n",
    "    temperature=None,\n",
    "    duration = None,\n",
    "    upper_cutoff = 4.1,\n",
    "    )"
   ]
  },
  {
   "cell_type": "code",
   "execution_count": 3,
   "metadata": {},
   "outputs": [],
   "source": [
    "experiment = pybamm.Experiment(\n",
    "    [\n",
    "        (\"Discharge at C/10 for 10 hours or until 3.3 V\",\n",
    "        \"Rest for 1 hour\",\n",
    "        CCruihe, # \"Charge at 1 A until 4.1 V\",\n",
    "        \"Hold at 4.1 V until 50 mA\",\n",
    "        \"Rest for 1 hour\"),\n",
    "    ] * 3\n",
    ")"
   ]
  },
  {
   "cell_type": "code",
   "execution_count": 4,
   "metadata": {},
   "outputs": [
    {
     "data": {
      "text/plain": [
       "[{'C-rate input [-]': 0.1,\n",
       "  'type': 'C-rate',\n",
       "  'time': 36000.0,\n",
       "  'period': 60.0,\n",
       "  'temperature': None,\n",
       "  'dc_data': None,\n",
       "  'string': 'Discharge at C/10 for 10 hours or until 3.3 V',\n",
       "  'events': {'Voltage input [V]': 3.3, 'type': 'voltage'},\n",
       "  'tags': None},\n",
       " {'Current input [A]': 0,\n",
       "  'type': 'current',\n",
       "  'time': 3600.0,\n",
       "  'period': 60.0,\n",
       "  'temperature': None,\n",
       "  'dc_data': None,\n",
       "  'string': 'Rest for 1 hour',\n",
       "  'events': None,\n",
       "  'tags': None},\n",
       " {'C-rate input [-]': '1',\n",
       "  'type': 'C-rate',\n",
       "  'time': None,\n",
       "  'period': 60.0,\n",
       "  'temperature': None,\n",
       "  'dc_data': None,\n",
       "  'string': None,\n",
       "  'events': {'Voltage input [V]': 4.1, 'type': 'voltage'},\n",
       "  'tags': None},\n",
       " {'Voltage input [V]': 4.1,\n",
       "  'type': 'voltage',\n",
       "  'time': None,\n",
       "  'period': 60.0,\n",
       "  'temperature': None,\n",
       "  'dc_data': None,\n",
       "  'string': 'Hold at 4.1 V until 50 mA',\n",
       "  'events': {'Current input [A]': 0.05, 'type': 'current'},\n",
       "  'tags': None},\n",
       " {'Current input [A]': 0,\n",
       "  'type': 'current',\n",
       "  'time': 3600.0,\n",
       "  'period': 60.0,\n",
       "  'temperature': None,\n",
       "  'dc_data': None,\n",
       "  'string': 'Rest for 1 hour',\n",
       "  'events': None,\n",
       "  'tags': None},\n",
       " {'C-rate input [-]': 0.1,\n",
       "  'type': 'C-rate',\n",
       "  'time': 36000.0,\n",
       "  'period': 60.0,\n",
       "  'temperature': None,\n",
       "  'dc_data': None,\n",
       "  'string': 'Discharge at C/10 for 10 hours or until 3.3 V',\n",
       "  'events': {'Voltage input [V]': 3.3, 'type': 'voltage'},\n",
       "  'tags': None},\n",
       " {'Current input [A]': 0,\n",
       "  'type': 'current',\n",
       "  'time': 3600.0,\n",
       "  'period': 60.0,\n",
       "  'temperature': None,\n",
       "  'dc_data': None,\n",
       "  'string': 'Rest for 1 hour',\n",
       "  'events': None,\n",
       "  'tags': None},\n",
       " {'C-rate input [-]': '1',\n",
       "  'type': 'C-rate',\n",
       "  'time': None,\n",
       "  'period': 60.0,\n",
       "  'temperature': None,\n",
       "  'dc_data': None,\n",
       "  'string': None,\n",
       "  'events': {'Voltage input [V]': 4.1, 'type': 'voltage'},\n",
       "  'tags': None},\n",
       " {'Voltage input [V]': 4.1,\n",
       "  'type': 'voltage',\n",
       "  'time': None,\n",
       "  'period': 60.0,\n",
       "  'temperature': None,\n",
       "  'dc_data': None,\n",
       "  'string': 'Hold at 4.1 V until 50 mA',\n",
       "  'events': {'Current input [A]': 0.05, 'type': 'current'},\n",
       "  'tags': None},\n",
       " {'Current input [A]': 0,\n",
       "  'type': 'current',\n",
       "  'time': 3600.0,\n",
       "  'period': 60.0,\n",
       "  'temperature': None,\n",
       "  'dc_data': None,\n",
       "  'string': 'Rest for 1 hour',\n",
       "  'events': None,\n",
       "  'tags': None},\n",
       " {'C-rate input [-]': 0.1,\n",
       "  'type': 'C-rate',\n",
       "  'time': 36000.0,\n",
       "  'period': 60.0,\n",
       "  'temperature': None,\n",
       "  'dc_data': None,\n",
       "  'string': 'Discharge at C/10 for 10 hours or until 3.3 V',\n",
       "  'events': {'Voltage input [V]': 3.3, 'type': 'voltage'},\n",
       "  'tags': None},\n",
       " {'Current input [A]': 0,\n",
       "  'type': 'current',\n",
       "  'time': 3600.0,\n",
       "  'period': 60.0,\n",
       "  'temperature': None,\n",
       "  'dc_data': None,\n",
       "  'string': 'Rest for 1 hour',\n",
       "  'events': None,\n",
       "  'tags': None},\n",
       " {'C-rate input [-]': '1',\n",
       "  'type': 'C-rate',\n",
       "  'time': None,\n",
       "  'period': 60.0,\n",
       "  'temperature': None,\n",
       "  'dc_data': None,\n",
       "  'string': None,\n",
       "  'events': {'Voltage input [V]': 4.1, 'type': 'voltage'},\n",
       "  'tags': None},\n",
       " {'Voltage input [V]': 4.1,\n",
       "  'type': 'voltage',\n",
       "  'time': None,\n",
       "  'period': 60.0,\n",
       "  'temperature': None,\n",
       "  'dc_data': None,\n",
       "  'string': 'Hold at 4.1 V until 50 mA',\n",
       "  'events': {'Current input [A]': 0.05, 'type': 'current'},\n",
       "  'tags': None},\n",
       " {'Current input [A]': 0,\n",
       "  'type': 'current',\n",
       "  'time': 3600.0,\n",
       "  'period': 60.0,\n",
       "  'temperature': None,\n",
       "  'dc_data': None,\n",
       "  'string': 'Rest for 1 hour',\n",
       "  'events': None,\n",
       "  'tags': None}]"
      ]
     },
     "execution_count": 4,
     "metadata": {},
     "output_type": "execute_result"
    }
   ],
   "source": [
    "experiment.operating_conditions"
   ]
  },
  {
   "cell_type": "code",
   "execution_count": 5,
   "metadata": {},
   "outputs": [],
   "source": [
    "model = pybamm.lithium_ion.DFN()"
   ]
  },
  {
   "cell_type": "markdown",
   "metadata": {},
   "source": [
    "and create our simulation, passing our experiment using a keyword argument"
   ]
  },
  {
   "cell_type": "code",
   "execution_count": 6,
   "metadata": {},
   "outputs": [],
   "source": [
    "sim = pybamm.Simulation(model, experiment=experiment)"
   ]
  },
  {
   "cell_type": "markdown",
   "metadata": {},
   "source": [
    "We then solve and plot the solution"
   ]
  },
  {
   "cell_type": "code",
   "execution_count": 7,
   "metadata": {},
   "outputs": [
    {
     "ename": "TypeError",
     "evalue": "can't multiply sequence by non-int of type 'float'",
     "output_type": "error",
     "traceback": [
      "\u001b[1;31m---------------------------------------------------------------------------\u001b[0m",
      "\u001b[1;31mTypeError\u001b[0m                                 Traceback (most recent call last)",
      "Cell \u001b[1;32mIn[7], line 1\u001b[0m\n\u001b[1;32m----> 1\u001b[0m sim\u001b[39m.\u001b[39;49msolve()\n\u001b[0;32m      2\u001b[0m sim\u001b[39m.\u001b[39mplot()\n",
      "File \u001b[1;32mc:\\pybamm_hp\\envpbpublic\\pybamm\\pybamm\\simulation.py:630\u001b[0m, in \u001b[0;36mSimulation.solve\u001b[1;34m(self, t_eval, solver, check_model, save_at_cycles, calc_esoh, starting_solution, initial_soc, callbacks, **kwargs)\u001b[0m\n\u001b[0;32m    628\u001b[0m \u001b[39melif\u001b[39;00m \u001b[39mself\u001b[39m\u001b[39m.\u001b[39moperating_mode \u001b[39m==\u001b[39m \u001b[39m\"\u001b[39m\u001b[39mwith experiment\u001b[39m\u001b[39m\"\u001b[39m:\n\u001b[0;32m    629\u001b[0m     callbacks\u001b[39m.\u001b[39mon_experiment_start(logs)\n\u001b[1;32m--> 630\u001b[0m     \u001b[39mself\u001b[39;49m\u001b[39m.\u001b[39;49mbuild_for_experiment(check_model\u001b[39m=\u001b[39;49mcheck_model, initial_soc\u001b[39m=\u001b[39;49minitial_soc)\n\u001b[0;32m    631\u001b[0m     \u001b[39mif\u001b[39;00m t_eval \u001b[39mis\u001b[39;00m \u001b[39mnot\u001b[39;00m \u001b[39mNone\u001b[39;00m:\n\u001b[0;32m    632\u001b[0m         pybamm\u001b[39m.\u001b[39mlogger\u001b[39m.\u001b[39mwarning(\n\u001b[0;32m    633\u001b[0m             \u001b[39m\"\u001b[39m\u001b[39mIgnoring t_eval as solution times are specified by the experiment\u001b[39m\u001b[39m\"\u001b[39m\n\u001b[0;32m    634\u001b[0m         )\n",
      "File \u001b[1;32mc:\\pybamm_hp\\envpbpublic\\pybamm\\pybamm\\simulation.py:465\u001b[0m, in \u001b[0;36mSimulation.build_for_experiment\u001b[1;34m(self, check_model, initial_soc)\u001b[0m\n\u001b[0;32m    463\u001b[0m     \u001b[39mreturn\u001b[39;00m\n\u001b[0;32m    464\u001b[0m \u001b[39melse\u001b[39;00m:\n\u001b[1;32m--> 465\u001b[0m     \u001b[39mself\u001b[39;49m\u001b[39m.\u001b[39;49mset_up_and_parameterise_experiment()\n\u001b[0;32m    467\u001b[0m     \u001b[39m# Can process geometry with default parameter values (only electrical\u001b[39;00m\n\u001b[0;32m    468\u001b[0m     \u001b[39m# parameters change between parameter values)\u001b[39;00m\n\u001b[0;32m    469\u001b[0m     \u001b[39mself\u001b[39m\u001b[39m.\u001b[39m_parameter_values\u001b[39m.\u001b[39mprocess_geometry(\u001b[39mself\u001b[39m\u001b[39m.\u001b[39m_geometry)\n",
      "File \u001b[1;32mc:\\pybamm_hp\\envpbpublic\\pybamm\\pybamm\\simulation.py:162\u001b[0m, in \u001b[0;36mSimulation.set_up_and_parameterise_experiment\u001b[1;34m(self)\u001b[0m\n\u001b[0;32m    160\u001b[0m     Crate \u001b[39m=\u001b[39m op_conds\u001b[39m.\u001b[39mpop(\u001b[39m\"\u001b[39m\u001b[39mC-rate input [-]\u001b[39m\u001b[39m\"\u001b[39m)\n\u001b[0;32m    161\u001b[0m     op_conds[\u001b[39m\"\u001b[39m\u001b[39mtype\u001b[39m\u001b[39m\"\u001b[39m] \u001b[39m=\u001b[39m \u001b[39m\"\u001b[39m\u001b[39mcurrent\u001b[39m\u001b[39m\"\u001b[39m\n\u001b[1;32m--> 162\u001b[0m     op_conds[\u001b[39m\"\u001b[39m\u001b[39mCurrent input [A]\u001b[39m\u001b[39m\"\u001b[39m] \u001b[39m=\u001b[39m Crate \u001b[39m*\u001b[39;49m capacity\n\u001b[0;32m    163\u001b[0m \u001b[39melif\u001b[39;00m op_type \u001b[39m==\u001b[39m \u001b[39m\"\u001b[39m\u001b[39mcurrent\u001b[39m\u001b[39m\"\u001b[39m:\n\u001b[0;32m    164\u001b[0m     Crate \u001b[39m=\u001b[39m op_conds[\u001b[39m\"\u001b[39m\u001b[39mCurrent input [A]\u001b[39m\u001b[39m\"\u001b[39m] \u001b[39m/\u001b[39m capacity\n",
      "\u001b[1;31mTypeError\u001b[0m: can't multiply sequence by non-int of type 'float'"
     ]
    }
   ],
   "source": [
    "sim.solve()\n",
    "sim.plot()"
   ]
  },
  {
   "cell_type": "code",
   "execution_count": null,
   "metadata": {},
   "outputs": [
    {
     "data": {
      "text/plain": [
       "[('Discharge at 1C for 0.5 hours', 'Discharge at C/20 for 0.5 hours'),\n",
       " ('Discharge at 1C for 0.5 hours', 'Discharge at C/20 for 0.5 hours'),\n",
       " ('Discharge at 1C for 0.5 hours', 'Discharge at C/20 for 0.5 hours'),\n",
       " ('Charge at 0.5 C for 45 minutes',)]"
      ]
     },
     "execution_count": 6,
     "metadata": {},
     "output_type": "execute_result"
    }
   ],
   "source": [
    "[(\"Discharge at 1C for 0.5 hours\", \"Discharge at C/20 for 0.5 hours\")] * 3 + [(\"Charge at 0.5 C for 45 minutes\",)]"
   ]
  },
  {
   "cell_type": "markdown",
   "metadata": {},
   "source": [
    "In this notebook we have seen how to use the Experiment class to run simulations of more complex operating conditions. In [Tutorial 6](./Tutorial%206%20-%20Managing%20simulation%20outputs.ipynb) we will see how to manage the outputs of the simulation."
   ]
  },
  {
   "cell_type": "markdown",
   "metadata": {},
   "source": [
    "## References\n",
    "\n",
    "The relevant papers for this notebook are:"
   ]
  },
  {
   "cell_type": "code",
   "execution_count": null,
   "metadata": {},
   "outputs": [
    {
     "name": "stdout",
     "output_type": "stream",
     "text": [
      "[1] Joel A. E. Andersson, Joris Gillis, Greg Horn, James B. Rawlings, and Moritz Diehl. CasADi – A software framework for nonlinear optimization and optimal control. Mathematical Programming Computation, 11(1):1–36, 2019. doi:10.1007/s12532-018-0139-4.\n",
      "[2] Marc Doyle, Thomas F. Fuller, and John Newman. Modeling of galvanostatic charge and discharge of the lithium/polymer/insertion cell. Journal of the Electrochemical society, 140(6):1526–1533, 1993. doi:10.1149/1.2221597.\n",
      "[3] Charles R. Harris, K. Jarrod Millman, Stéfan J. van der Walt, Ralf Gommers, Pauli Virtanen, David Cournapeau, Eric Wieser, Julian Taylor, Sebastian Berg, Nathaniel J. Smith, and others. Array programming with NumPy. Nature, 585(7825):357–362, 2020. doi:10.1038/s41586-020-2649-2.\n",
      "[4] Scott G. Marquis, Valentin Sulzer, Robert Timms, Colin P. Please, and S. Jon Chapman. An asymptotic derivation of a single particle model with electrolyte. Journal of The Electrochemical Society, 166(15):A3693–A3706, 2019. doi:10.1149/2.0341915jes.\n",
      "[5] Valentin Sulzer, Scott G. Marquis, Robert Timms, Martin Robinson, and S. Jon Chapman. Python Battery Mathematical Modelling (PyBaMM). ECSarXiv. February, 2020. doi:10.1149/osf.io/67ckj.\n",
      "\n"
     ]
    }
   ],
   "source": [
    "pybamm.print_citations()"
   ]
  }
 ],
 "metadata": {
  "kernelspec": {
   "display_name": "Python 3 (ipykernel)",
   "language": "python",
   "name": "python3"
  },
  "language_info": {
   "codemirror_mode": {
    "name": "ipython",
    "version": 3
   },
   "file_extension": ".py",
   "mimetype": "text/x-python",
   "name": "python",
   "nbconvert_exporter": "python",
   "pygments_lexer": "ipython3",
   "version": "3.10.10"
  },
  "toc": {
   "base_numbering": 1,
   "nav_menu": {},
   "number_sections": true,
   "sideBar": true,
   "skip_h1_title": false,
   "title_cell": "Table of Contents",
   "title_sidebar": "Contents",
   "toc_cell": false,
   "toc_position": {},
   "toc_section_display": true,
   "toc_window_display": true
  }
 },
 "nbformat": 4,
 "nbformat_minor": 2
}
