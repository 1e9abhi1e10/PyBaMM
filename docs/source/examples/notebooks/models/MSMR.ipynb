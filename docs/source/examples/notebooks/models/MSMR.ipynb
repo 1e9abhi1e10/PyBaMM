{
 "cells": [
  {
   "attachments": {},
   "cell_type": "markdown",
   "metadata": {},
   "source": [
    "# Multi-Species Multi-Reaction model"
   ]
  },
  {
   "attachments": {},
   "cell_type": "markdown",
   "metadata": {},
   "source": [
    "## Model Equations\n",
    "\n",
    "Here we briefly outline the models used for the open-circuit potential and solid phase transport used in the MSMR model, as described in Baker and Verbrugge (2018). The remaining physics is modelled differently depending on which options are selected. By default, the rest of the battery model is as described in Maquis et al. (2019)."
   ]
  },
  {
   "attachments": {},
   "cell_type": "markdown",
   "metadata": {},
   "source": [
    "## Thermodynamics\n",
    "The MSMR model is developed by assuming that all electrochemical reactions at the electrode/electrolyte interface in a lithium insertion cell can be expressed in the form \n",
    "$$ \\text{Li}^{+} + \\text{e}^{-} + \\text{H}_{j} \\rightleftharpoons  (\\text{Li--H})_{j}.$$\n",
    "For each species $j$, a vacant host site $\\text{H}_{j}$ can accommodate one lithium leading to a filled host site $(\\text{Li--H})_{j}$. The OCV for this reaction is written as\n",
    "$$ U_j = U_j^0 + \\frac{\\omega_j}{f}\\log\\left(\\frac{X_j - x_j}{x_j}\\right),$$\n",
    "where $f = (RT)/F$, and $R$, $T$, and $F$ are the universal gas constant, temperature in Kelvin, and Faraday’s constant, respectively. Here $X_j$ represents the total fraction of available host sites which can be occupied by species $j$, $x_j$ is the fraction of filled sites occupied by species $j$, $U_j^0$ is a concentration independent standard electrode potential, and the $\\omega_j$ is an unitless parameter that describes the level of disorder of the reaction represented by gallery $j$. \n",
    "\n",
    "The equation for each reaction can be inverted to give \n",
    "$$x_j = \\frac{X_j}{1+\\exp[f(U-U_j^0)/\\omega_j]}.$$\n",
    "The overall electrode state of charge is given by summing the fractional occupancies \n",
    "$$x = \\sum_j x_j = \\sum_j \\frac{X_j}{1+\\exp[f(U-U_j^0)/\\omega_j]},$$\n",
    "which is an explicit closed form expression for the inverse of the OCV. This is opposite to many battery models where one typically gives the OCV as an explicit function of the state of charge (or stoichiometry).\n",
    "\n",
    "At a particle interface with the electrolyte, local equilibrium requires that \n",
    "$$U_j = U(x) \\quad \\forall j.$$"
   ]
  },
  {
   "attachments": {},
   "cell_type": "markdown",
   "metadata": {},
   "source": [
    "## Solid phase transport\n",
    "Within the MSMR framework, the flux within the particles is expressed in terms of gradient of the chemical potential\n",
    "$$N = -c_{\\text{T}}x\\frac{D}{RT}\\nabla \\mu + x(N+N_{\\text{H}}),$$\n",
    "where $N$ is the flux of lithiated sites, $N_{\\text{H}}$ is the flux of unlithiated sites, $c_{\\text{T}}$ is the total concentration of lithiated and delithiated sites, and $D$ is a diffusion coefficient. Ignoring volumetric expansion during lithiation, the total flux of sites vanishes\n",
    "$$N+N_{\\text{H}}.$$ \n",
    "It can then be shown that \n",
    "$$N = c_{\\text{T}}fDx(1-x)\\frac{\\text{d}U}{\\text{d}x}\\nabla x.$$\n",
    "\n",
    "A mass balance in the solid phase then gives\n",
    "$$\\frac{\\partial x}{\\partial t} = -\\nabla\\cdot\\left(x(1-x)fD\\frac{\\text{d}U}{\\text{d}x}\\nabla x\\right),$$\n",
    "which, for a radially symmetric spherical particle, must be solved subject to the boundary conditions\n",
    "$$N\\big\\vert_{r=0} = 0, \\quad N\\big\\vert_{r=R} = \\frac{j}{F},$$\n",
    "where $j$ is the interfacial current density and $R$ is the particle radius. This must be supplemented with a suitable initial condition for the electrode state of charge.\n",
    "\n",
    "Solution of this problem requires evaluate of the function $U(x)$ and the derivative $\\text{d}U/\\text{d}x$, but these functions cannot be explicitly integrated. This problem can be avoided by replacing the dependent variable $x$ with a new dependent variable $U$ subject to the transformation \n",
    "$$x = \\sum_j \\frac{X_j}{1+\\exp[f(U-U_j^0)/\\omega_j]}.$$\n",
    "This gives the following equation for mass balance within the particles\n",
    "$$\\frac{\\text{d}U}{\\text{d}x}\\frac{\\partial U}{\\partial t} = -\\nabla\\cdot\\left(x(1-x)fD\\nabla x\\right),$$\n",
    "\n",
    "which must be solved along with the transformed boundary and initial conditions."
   ]
  },
  {
   "attachments": {},
   "cell_type": "markdown",
   "metadata": {},
   "source": [
    "## Example solving MSMR using PyBaMM\n",
    "Below we show how to set up and solve a CCCV experiment using the MSMR model in PyBaMM. We use an example parameter set based on an Gr vs NMC cell similar to the LG M50.\n",
    "\n",
    "We begin by importing pybamm, numpy and matplotlib"
   ]
  },
  {
   "cell_type": "code",
   "execution_count": 1,
   "metadata": {},
   "outputs": [
    {
     "name": "stdout",
     "output_type": "stream",
     "text": [
      "\n",
      "\u001b[1m[\u001b[0m\u001b[34;49mnotice\u001b[0m\u001b[1;39;49m]\u001b[0m\u001b[39;49m A new release of pip is available: \u001b[0m\u001b[31;49m23.1.2\u001b[0m\u001b[39;49m -> \u001b[0m\u001b[32;49m23.2\u001b[0m\n",
      "\u001b[1m[\u001b[0m\u001b[34;49mnotice\u001b[0m\u001b[1;39;49m]\u001b[0m\u001b[39;49m To update, run: \u001b[0m\u001b[32;49mpip install --upgrade pip\u001b[0m\n",
      "Note: you may need to restart the kernel to use updated packages.\n"
     ]
    }
   ],
   "source": [
    "%pip install pybamm -q    # install PyBaMM if it is not installed\n",
    "import pybamm\n",
    "import numpy as np\n",
    "import matplotlib.pyplot as plt"
   ]
  },
  {
   "attachments": {},
   "cell_type": "markdown",
   "metadata": {},
   "source": [
    "Next we load in the model and specify the number of reactions in each electrode"
   ]
  },
  {
   "cell_type": "code",
   "execution_count": 2,
   "metadata": {},
   "outputs": [],
   "source": [
    "model = pybamm.lithium_ion.MSMR({\"number of MSMR reactions\": (\"6\", \"4\")})"
   ]
  },
  {
   "attachments": {},
   "cell_type": "markdown",
   "metadata": {},
   "source": [
    "In the MSMR model, the individual reactions are given variables names `x_k_j` where `k` can be `n` or `p` to denote the negative or positive electrode, and `j` is the reaction index. E.g. the variable for the second reaction in the negative electrode can be accessed as"
   ]
  },
  {
   "cell_type": "code",
   "execution_count": 3,
   "metadata": {},
   "outputs": [],
   "source": [
    "xn_2 = model.variables[\"x_n_2\"]"
   ]
  },
  {
   "attachments": {},
   "cell_type": "markdown",
   "metadata": {},
   "source": [
    "Next we define our experiment, before creating and solving a simulation"
   ]
  },
  {
   "cell_type": "code",
   "execution_count": 4,
   "metadata": {},
   "outputs": [
    {
     "name": "stderr",
     "output_type": "stream",
     "text": [
      "At t = 275.616 and h = 2.99777e-11, the corrector convergence failed repeatedly or with |h| = hmin.\n",
      "At t = 275.7 and h = 2.12769e-10, the corrector convergence failed repeatedly or with |h| = hmin.\n"
     ]
    },
    {
     "data": {
      "text/plain": [
       "<pybamm.solvers.solution.Solution at 0x280588550>"
      ]
     },
     "execution_count": 4,
     "metadata": {},
     "output_type": "execute_result"
    }
   ],
   "source": [
    "experiment = pybamm.Experiment(\n",
    "    [\n",
    "        (\n",
    "            \"Discharge at 1C for 1 hour or until 3 V\",\n",
    "            \"Rest for 1 hour\",\n",
    "            \"Charge at C/3 until 4.2 V\",\n",
    "            \"Hold at 4.2 V until 10 mA\",\n",
    "            \"Rest for 1 hour\",\n",
    "        ),\n",
    "    ],\n",
    "    period=\"10 seconds\",\n",
    ")\n",
    "sim = pybamm.Simulation(model, experiment=experiment)\n",
    "sim.solve()"
   ]
  },
  {
   "attachments": {},
   "cell_type": "markdown",
   "metadata": {},
   "source": [
    "Finally we can plot the results. In the MSMR model we can look at both the potential and stoichiometry as a function of position through the electrode and within the particle"
   ]
  },
  {
   "cell_type": "code",
   "execution_count": 5,
   "metadata": {},
   "outputs": [
    {
     "data": {
      "application/vnd.jupyter.widget-view+json": {
       "model_id": "21de049b5a8a40e18d9f40118ca2e8a6",
       "version_major": 2,
       "version_minor": 0
      },
      "text/plain": [
       "interactive(children=(FloatSlider(value=0.0, description='t', max=6.0940492544338145, step=0.06094049254433814…"
      ]
     },
     "metadata": {},
     "output_type": "display_data"
    },
    {
     "data": {
      "text/plain": [
       "<pybamm.plotting.quick_plot.QuickPlot at 0x1764876a0>"
      ]
     },
     "execution_count": 5,
     "metadata": {},
     "output_type": "execute_result"
    }
   ],
   "source": [
    "sim.plot(\n",
    "    [\n",
    "        \"Negative particle stoichiometry\",\n",
    "        \"Positive particle stoichiometry\",\n",
    "        \"X-averaged negative electrode open-circuit potential [V]\",\n",
    "        \"X-averaged positive electrode open-circuit potential [V]\",        \n",
    "        \"Negative particle potential [V]\",\n",
    "        \"Positive particle potential [V]\",\n",
    "        \"Current [A]\",\n",
    "        \"Voltage [V]\",\n",
    "    ],\n",
    "    variable_limits=\"tight\",  # make axes tight to plot at each timestep\n",
    ")"
   ]
  },
  {
   "attachments": {},
   "cell_type": "markdown",
   "metadata": {},
   "source": [
    "We can also look at the individual reactions"
   ]
  },
  {
   "cell_type": "code",
   "execution_count": 6,
   "metadata": {},
   "outputs": [
    {
     "data": {
      "application/vnd.jupyter.widget-view+json": {
       "model_id": "665dd9d40ffd4664954ce188fd744061",
       "version_major": 2,
       "version_minor": 0
      },
      "text/plain": [
       "interactive(children=(FloatSlider(value=0.0, description='t', max=6.0940492544338145, step=0.06094049254433814…"
      ]
     },
     "metadata": {},
     "output_type": "display_data"
    },
    {
     "data": {
      "text/plain": [
       "<pybamm.plotting.quick_plot.QuickPlot at 0x2871f6610>"
      ]
     },
     "execution_count": 6,
     "metadata": {},
     "output_type": "execute_result"
    }
   ],
   "source": [
    "xns = [f\"Average x_n_{i}\" for i in range(6)]  # negative electrode reactions: x_n_0, x_n_1, ..., x_n_5\n",
    "xps = [f\"Average x_p_{i}\" for i in range(4)]  # positive electrode reactions: x_p_0, x_p_1, ..., x_p_3\n",
    "sim.plot(\n",
    "    [\n",
    "        xns,\n",
    "        xps,\n",
    "        \"Current [A]\",\n",
    "        \"Negative electrode stoichiometry\",\n",
    "        \"Positive electrode stoichiometry\",\n",
    "        \"Voltage [V]\",\n",
    "    ]\n",
    ")"
   ]
  },
  {
   "attachments": {},
   "cell_type": "markdown",
   "metadata": {},
   "source": [
    "and plot how they sum to give the electrode stoichiometry "
   ]
  },
  {
   "cell_type": "code",
   "execution_count": 7,
   "metadata": {},
   "outputs": [
    {
     "data": {
      "text/plain": [
       "<matplotlib.legend.Legend at 0x288775340>"
      ]
     },
     "execution_count": 7,
     "metadata": {},
     "output_type": "execute_result"
    },
    {
     "data": {
      "image/png": "[encoded data removed]",
      "text/plain": [
       "<Figure size 800x400 with 2 Axes>"
      ]
     },
     "metadata": {},
     "output_type": "display_data"
    }
   ],
   "source": [
    "sol = sim.solution\n",
    "time = sol[\"Time [h]\"].data\n",
    "fig, ax = plt.subplots(1, 2, figsize=(8, 4))\n",
    "\n",
    "ax[0].plot(time, sol[\"Average negative particle stoichiometry\"].data, \"k-\", label=\"x_n\")\n",
    "bottom = 0\n",
    "for xn in xns:\n",
    "    top = bottom + sol[xn].data\n",
    "    ax[0].fill_between(time, bottom, top, label=xn[-4:])\n",
    "    bottom = top\n",
    "ax[0].set_xlabel(\"Time [h]\")\n",
    "ax[0].set_ylabel(\"x_n [-]\")\n",
    "ax[0].legend(\n",
    "    loc=\"upper center\", bbox_to_anchor=(0.5, -0.15), ncol=3\n",
    ")\n",
    "ax[1].plot(time, sol[\"Average positive particle stoichiometry\"].data, \"k-\", label=\"x_p\")\n",
    "bottom = 0\n",
    "for xp in xps:\n",
    "    top = bottom + sol[xp].data\n",
    "    ax[1].fill_between(time, bottom, top, label=xp[-4:])\n",
    "    bottom = top\n",
    "ax[1].set_xlabel(\"Time [h]\")\n",
    "ax[1].set_ylabel(\"x_p [-]\")\n",
    "ax[1].legend(\n",
    "    loc=\"upper center\", bbox_to_anchor=(0.5, -0.15), ncol=3\n",
    ")"
   ]
  },
  {
   "attachments": {},
   "cell_type": "markdown",
   "metadata": {},
   "source": [
    "## References\n",
    "\n",
    "The relevant papers for this notebook are:"
   ]
  },
  {
   "cell_type": "code",
   "execution_count": 8,
   "metadata": {},
   "outputs": [
    {
     "name": "stdout",
     "output_type": "stream",
     "text": [
      "[1] Joel A. E. Andersson, Joris Gillis, Greg Horn, James B. Rawlings, and Moritz Diehl. CasADi – A software framework for nonlinear optimization and optimal control. Mathematical Programming Computation, 11(1):1–36, 2019. doi:10.1007/s12532-018-0139-4.\n",
      "[2] Daniel R Baker and Mark W Verbrugge. Multi-species, multi-reaction model for porous intercalation electrodes: part i. model formulation and a perturbation solution for low-scan-rate, linear-sweep voltammetry of a spinel lithium manganese oxide electrode. Journal of The Electrochemical Society, 165(16):A3952, 2018.\n",
      "[3] Chang-Hui Chen, Ferran Brosa Planella, Kieran O'Regan, Dominika Gastol, W. Dhammika Widanage, and Emma Kendrick. Development of Experimental Techniques for Parameterization of Multi-scale Lithium-ion Battery Models. Journal of The Electrochemical Society, 167(8):080534, 2020. doi:10.1149/1945-7111/ab9050.\n",
      "[4] Marc Doyle, Thomas F. Fuller, and John Newman. Modeling of galvanostatic charge and discharge of the lithium/polymer/insertion cell. Journal of the Electrochemical society, 140(6):1526–1533, 1993. doi:10.1149/1.2221597.\n",
      "[5] Charles R. Harris, K. Jarrod Millman, Stéfan J. van der Walt, Ralf Gommers, Pauli Virtanen, David Cournapeau, Eric Wieser, Julian Taylor, Sebastian Berg, Nathaniel J. Smith, and others. Array programming with NumPy. Nature, 585(7825):357–362, 2020. doi:10.1038/s41586-020-2649-2.\n",
      "[6] Peyman Mohtat, Suhak Lee, Jason B Siegel, and Anna G Stefanopoulou. Towards better estimability of electrode-specific state of health: decoding the cell expansion. Journal of Power Sources, 427:101–111, 2019.\n",
      "[7] Valentin Sulzer, Scott G. Marquis, Robert Timms, Martin Robinson, and S. Jon Chapman. Python Battery Mathematical Modelling (PyBaMM). Journal of Open Research Software, 9(1):14, 2021. doi:10.5334/jors.309.\n",
      "[8] Mark Verbrugge, Daniel Baker, Brian Koch, Xingcheng Xiao, and Wentian Gu. Thermodynamic model for substitutional materials: application to lithiated graphite, spinel manganese oxide, iron phosphate, and layered nickel-manganese-cobalt oxide. Journal of The Electrochemical Society, 164(11):E3243, 2017.\n",
      "[9] Pauli Virtanen, Ralf Gommers, Travis E. Oliphant, Matt Haberland, Tyler Reddy, David Cournapeau, Evgeni Burovski, Pearu Peterson, Warren Weckesser, Jonathan Bright, and others. SciPy 1.0: fundamental algorithms for scientific computing in Python. Nature Methods, 17(3):261–272, 2020. doi:10.1038/s41592-019-0686-2.\n",
      "[10] Andrew Weng, Jason B Siegel, and Anna Stefanopoulou. Differential voltage analysis for battery manufacturing process control. arXiv preprint arXiv:2303.07088, 2023.\n",
      "\n"
     ]
    }
   ],
   "source": [
    "pybamm.print_citations()"
   ]
  },
  {
   "cell_type": "code",
   "execution_count": null,
   "metadata": {},
   "outputs": [],
   "source": []
  }
 ],
 "metadata": {
  "kernelspec": {
   "display_name": "dev",
   "language": "python",
   "name": "python3"
  },
  "language_info": {
   "codemirror_mode": {
    "name": "ipython",
    "version": 3
   },
   "file_extension": ".py",
   "mimetype": "text/x-python",
   "name": "python",
   "nbconvert_exporter": "python",
   "pygments_lexer": "ipython3",
   "version": "3.9.16"
  },
  "vscode": {
   "interpreter": {
    "hash": "bca2b99bfac80e18288b793d52fa0653ab9b5fe5d22e7b211c44eb982a41c00c"
   }
  }
 },
 "nbformat": 4,
 "nbformat_minor": 2
}
