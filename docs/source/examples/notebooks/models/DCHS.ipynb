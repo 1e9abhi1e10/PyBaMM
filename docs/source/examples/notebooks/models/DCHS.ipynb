{
 "cells": [
  {
   "cell_type": "code",
   "execution_count": 1,
   "metadata": {},
   "outputs": [],
   "source": [
    "import pybamm\n",
    "\n",
    "parameters = pybamm.ParameterValues(\"Chen2020_composite\")\n",
    "\n",
    "\n",
    "# get the lithiation and delithiation functions\n",
    "\n",
    "lithiation = parameters[\"Secondary: Negative electrode lithiation OCP [V]\"]\n",
    "delithiation = parameters[\"Secondary: Negative electrode delithiation OCP [V]\"]\n",
    "\n",
    "\n",
    "# define the new OCP function\n",
    "def ocp(sto):\n",
    "    return (lithiation(sto) + delithiation(sto)) / 2\n",
    "\n",
    "\n",
    "# define hysteresis function\n",
    "def hysteresis(sto):\n",
    "    return (lithiation(sto) - delithiation(sto)) / -2\n",
    "\n",
    "\n",
    "# add additional parameters\n",
    "parameters.update(\n",
    "    {\n",
    "        \"Secondary: Negative electrode OCP [V]\": ocp,\n",
    "        \"Secondary: Negative particle hysteresis decay rate\": 0.1,\n",
    "        \"Secondary: Negative electrode OCP hysteresis [V]\": hysteresis,\n",
    "        \"Secondary: Negative particle hysteresis switching factor\": 1,\n",
    "    },\n",
    "    check_already_exists=False,\n",
    ")\n",
    "\n",
    "model = pybamm.lithium_ion.SPM(\n",
    "    {\n",
    "        \"open-circuit potential\": ((\"single\", \"DCHS\"), \"single\"),\n",
    "        \"particle phases\": (\"2\", \"1\"),\n",
    "    }\n",
    ")\n",
    "\n",
    "\n",
    "experiment = pybamm.Experiment(\n",
    "    [\n",
    "        (\"Discharge at 1 C for 1 hour or until 2.5 V\", \"Rest for 15 minutes\"),\n",
    "        (\n",
    "            \"Charge at 1C until 4.2 V\",\n",
    "            \"Hold at 4.2 V until 50 mA\",\n",
    "            \"Rest for 15 minutes\",\n",
    "        ),\n",
    "    ]\n",
    ")\n",
    "\n",
    "\n",
    "simulation = pybamm.Simulation(\n",
    "    model, experiment=experiment, parameter_values=parameters\n",
    ")\n",
    "solution = simulation.solve(calc_esoh=False)"
   ]
  },
  {
   "cell_type": "code",
   "execution_count": 2,
   "metadata": {},
   "outputs": [
    {
     "data": {
      "application/vnd.jupyter.widget-view+json": {
       "model_id": "992a4a76a92d4ae888b8065d8b96e51e",
       "version_major": 2,
       "version_minor": 0
      },
      "text/plain": [
       "interactive(children=(FloatSlider(value=0.0, description='t', max=3.3439065949597495, step=0.03343906594959749…"
      ]
     },
     "metadata": {},
     "output_type": "display_data"
    },
    {
     "data": {
      "text/plain": [
       "<pybamm.plotting.quick_plot.QuickPlot at 0x32f381dd0>"
      ]
     },
     "execution_count": 2,
     "metadata": {},
     "output_type": "execute_result"
    }
   ],
   "source": [
    "solution.plot(\n",
    "    [\n",
    "        \"X-averaged negative electrode secondary hysteresis state\",\n",
    "        \"Negative electrode secondary hysteresis state\",\n",
    "        \"Negative electrode secondary open-circuit potential [V]\",\n",
    "        \"Terminal voltage [V]\",\n",
    "        \"X-averaged negative electrode secondary open-circuit potential [V]\",\n",
    "    ]\n",
    ")"
   ]
  },
  {
   "cell_type": "code",
   "execution_count": 3,
   "metadata": {},
   "outputs": [],
   "source": [
    "import pybamm\n",
    "\n",
    "parameters = pybamm.ParameterValues(\"Chen2020_composite\")\n",
    "\n",
    "\n",
    "# get the lithiation and delithiation functions\n",
    "\n",
    "lithiation = parameters[\"Secondary: Negative electrode lithiation OCP [V]\"]\n",
    "delithiation = parameters[\"Secondary: Negative electrode delithiation OCP [V]\"]\n",
    "\n",
    "\n",
    "# define the new OCP function\n",
    "def ocp(sto):\n",
    "    return (lithiation(sto) + delithiation(sto)) / 2\n",
    "\n",
    "\n",
    "# define hysteresis function\n",
    "def hysteresis(sto):\n",
    "    return (lithiation(sto) - delithiation(sto)) / -2\n",
    "\n",
    "\n",
    "# add additional parameters\n",
    "parameters.update(\n",
    "    {\n",
    "        \"Secondary: Negative electrode OCP [V]\": ocp,\n",
    "        \"Secondary: Negative particle hysteresis decay rate\": 0.1,\n",
    "        \"Secondary: Negative electrode OCP hysteresis [V]\": hysteresis,\n",
    "        \"Secondary: Negative particle hysteresis switching factor\": 1,\n",
    "    },\n",
    "    check_already_exists=False,\n",
    ")\n",
    "\n",
    "model = pybamm.lithium_ion.SPM(\n",
    "    {\n",
    "        \"open-circuit potential\": ((\"single\", \"current sigmoid\"), \"single\"),\n",
    "        \"particle phases\": (\"2\", \"1\"),\n",
    "    }\n",
    ")\n",
    "\n",
    "\n",
    "experiment = pybamm.Experiment(\n",
    "    [\n",
    "        (\"Discharge at 1 C for 1 hour or until 2.5 V\", \"Rest for 15 minutes\"),\n",
    "        (\n",
    "            \"Charge at 1C until 4.2 V\",\n",
    "            \"Hold at 4.2 V until 50 mA\",\n",
    "            \"Rest for 15 minutes\",\n",
    "        ),\n",
    "    ]\n",
    ")\n",
    "\n",
    "\n",
    "simulation = pybamm.Simulation(\n",
    "    model, experiment=experiment, parameter_values=parameters\n",
    ")\n",
    "solution_sigmoid = simulation.solve(calc_esoh=False)"
   ]
  },
  {
   "cell_type": "code",
   "execution_count": 4,
   "metadata": {},
   "outputs": [
    {
     "data": {
      "application/vnd.jupyter.widget-view+json": {
       "model_id": "b61b1d1b47314d43962ab8968639d569",
       "version_major": 2,
       "version_minor": 0
      },
      "text/plain": [
       "interactive(children=(FloatSlider(value=0.0, description='t', max=3.3455896030671757, step=0.03345589603067175…"
      ]
     },
     "metadata": {},
     "output_type": "display_data"
    },
    {
     "data": {
      "text/plain": [
       "<pybamm.plotting.quick_plot.QuickPlot at 0x333752650>"
      ]
     },
     "execution_count": 4,
     "metadata": {},
     "output_type": "execute_result"
    }
   ],
   "source": [
    "solution_sigmoid.plot(\n",
    "    [\n",
    "        # \"X-averaged negative electrode secondary hysteresis state\",\n",
    "        # \"Negative electrode secondary hysteresis state\",\n",
    "        \"Negative electrode secondary open-circuit potential [V]\",\n",
    "        \"Terminal voltage [V]\",\n",
    "        \"X-averaged negative electrode secondary open-circuit potential [V]\",\n",
    "    ]\n",
    ")"
   ]
  },
  {
   "cell_type": "code",
   "execution_count": 5,
   "metadata": {},
   "outputs": [
    {
     "data": {
      "application/vnd.jupyter.widget-view+json": {
       "model_id": "b5db2821f7ab4da2979b66e5ff078d61",
       "version_major": 2,
       "version_minor": 0
      },
      "text/plain": [
       "interactive(children=(FloatSlider(value=0.0, description='t', max=3.3455896030671757, step=0.03345589603067175…"
      ]
     },
     "metadata": {},
     "output_type": "display_data"
    }
   ],
   "source": [
    "pybamm.QuickPlot(\n",
    "    [solution, solution_sigmoid],\n",
    "    labels=[\"DCHS\", \"Sigmoid\"],\n",
    "    output_variables=[\n",
    "        \"Negative electrode secondary open-circuit potential [V]\",\n",
    "        \"Terminal voltage [V]\",\n",
    "        \"X-averaged negative electrode secondary open-circuit potential [V]\",\n",
    "    ],\n",
    ").dynamic_plot()"
   ]
  }
 ],
 "metadata": {
  "kernelspec": {
   "display_name": "venv",
   "language": "python",
   "name": "python3"
  },
  "language_info": {
   "codemirror_mode": {
    "name": "ipython",
    "version": 3
   },
   "file_extension": ".py",
   "mimetype": "text/x-python",
   "name": "python",
   "nbconvert_exporter": "python",
   "pygments_lexer": "ipython3",
   "version": "3.11.0"
  }
 },
 "nbformat": 4,
 "nbformat_minor": 2
}
