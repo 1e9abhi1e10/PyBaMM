{
 "cells": [
  {
   "cell_type": "code",
   "execution_count": 1,
   "metadata": {},
   "outputs": [],
   "source": [
    "import pybamm\n",
    "import numpy as np\n",
    "\n",
    "parameters = pybamm.ParameterValues(\"Chen2020_composite\")\n",
    "\n",
    "\n",
    "# get the lithiation and delithiation functions\n",
    "\n",
    "lithiation = parameters['Secondary: Negative electrode lithiation OCP [V]']\n",
    "delithiation = parameters['Secondary: Negative electrode delithiation OCP [V]']\n",
    "\n",
    "# define the new OCP function\n",
    "def ocp(sto):\n",
    "    return (lithiation(sto) + delithiation(sto))/2\n",
    "\n",
    "# define hysteresis function\n",
    "def hysteresis(sto):\n",
    "    return (lithiation(sto) - delithiation(sto))/-2\n",
    "\n",
    "# add additional parameters\n",
    "parameters.update({\n",
    "    'Secondary: Negative electrode OCP [V]': ocp,\n",
    "    'Secondary: Negative particle hysteresis decay rate': 0.1,\n",
    "    'Secondary: Negative electrode OCP hysteresis [V]': hysteresis,\n",
    "    'Secondary: Negative particle hysteresis switching factor': 1\n",
    "\n",
    "},check_already_exists=False)\n",
    "\n",
    "model = pybamm.lithium_ion.SPM({'open-circuit potential':(('single','Plett'),'single'),'particle phases':('2','1')})\n",
    "\n",
    "\n",
    "\n",
    "experiment = pybamm.Experiment([(\"Discharge at 1 C for 1 hour or until 2.5 V\",\"Rest for 15 minutes\"),(\"Charge at 1C until 4.2 V\",\"Hold at 4.2 V until 50 mA\",\"Rest for 15 minutes\")])\n",
    "\n",
    "\n",
    "simulation = pybamm.Simulation(model, experiment=experiment, parameter_values=parameters)\n",
    "solution = simulation.solve(calc_esoh=False)"
   ]
  },
  {
   "cell_type": "code",
   "execution_count": 2,
   "metadata": {},
   "outputs": [
    {
     "data": {
      "application/vnd.jupyter.widget-view+json": {
       "model_id": "4656f55659574e728171f99ce8037aab",
       "version_major": 2,
       "version_minor": 0
      },
      "text/plain": [
       "interactive(children=(FloatSlider(value=0.0, description='t', max=3.3439065949597495, step=0.03343906594959749…"
      ]
     },
     "metadata": {},
     "output_type": "display_data"
    },
    {
     "data": {
      "text/plain": [
       "<pybamm.plotting.quick_plot.QuickPlot at 0x32e620610>"
      ]
     },
     "execution_count": 2,
     "metadata": {},
     "output_type": "execute_result"
    }
   ],
   "source": [
    "solution.plot([\n",
    "    \"X-averaged negative electrode secondary hysteresis state\",\n",
    "    \"Negative electrode secondary hysteresis state\",\n",
    "    'Negative electrode secondary open-circuit potential [V]',\n",
    "    'Terminal voltage [V]',\n",
    "    'X-averaged negative electrode secondary open-circuit potential [V]'\n",
    "])"
   ]
  },
  {
   "cell_type": "code",
   "execution_count": 3,
   "metadata": {},
   "outputs": [],
   "source": [
    "import pybamm\n",
    "import numpy as np\n",
    "\n",
    "parameters = pybamm.ParameterValues(\"Chen2020_composite\")\n",
    "\n",
    "\n",
    "# get the lithiation and delithiation functions\n",
    "\n",
    "lithiation = parameters['Secondary: Negative electrode lithiation OCP [V]']\n",
    "delithiation = parameters['Secondary: Negative electrode delithiation OCP [V]']\n",
    "\n",
    "# define the new OCP function\n",
    "def ocp(sto):\n",
    "    return (lithiation(sto) + delithiation(sto))/2\n",
    "\n",
    "# define hysteresis function\n",
    "def hysteresis(sto):\n",
    "    return (lithiation(sto) - delithiation(sto))/-2\n",
    "\n",
    "# add additional parameters\n",
    "parameters.update({\n",
    "    'Secondary: Negative electrode OCP [V]': ocp,\n",
    "    'Secondary: Negative particle hysteresis decay rate': 0.1,\n",
    "    'Secondary: Negative electrode OCP hysteresis [V]': hysteresis,\n",
    "    'Secondary: Negative particle hysteresis switching factor': 1\n",
    "\n",
    "},check_already_exists=False)\n",
    "\n",
    "model = pybamm.lithium_ion.SPM({'open-circuit potential':(('single','current sigmoid'),'single'),'particle phases':('2','1')})\n",
    "\n",
    "\n",
    "\n",
    "experiment = pybamm.Experiment([(\"Discharge at 1 C for 1 hour or until 2.5 V\",\"Rest for 15 minutes\"),(\"Charge at 1C until 4.2 V\",\"Hold at 4.2 V until 50 mA\",\"Rest for 15 minutes\")])\n",
    "\n",
    "\n",
    "simulation = pybamm.Simulation(model, experiment=experiment, parameter_values=parameters)\n",
    "solution_sigmoid = simulation.solve(calc_esoh=False)"
   ]
  },
  {
   "cell_type": "code",
   "execution_count": 6,
   "metadata": {},
   "outputs": [
    {
     "data": {
      "application/vnd.jupyter.widget-view+json": {
       "model_id": "f1fe970ea9b94028a98720a87eb8daf2",
       "version_major": 2,
       "version_minor": 0
      },
      "text/plain": [
       "interactive(children=(FloatSlider(value=0.0, description='t', max=3.3455896030671757, step=0.03345589603067175…"
      ]
     },
     "metadata": {},
     "output_type": "display_data"
    },
    {
     "data": {
      "text/plain": [
       "<pybamm.plotting.quick_plot.QuickPlot at 0x332e269d0>"
      ]
     },
     "execution_count": 6,
     "metadata": {},
     "output_type": "execute_result"
    }
   ],
   "source": [
    "solution_sigmoid.plot([\n",
    "    # \"X-averaged negative electrode secondary hysteresis state\",\n",
    "    # \"Negative electrode secondary hysteresis state\",\n",
    "    'Negative electrode secondary open-circuit potential [V]',\n",
    "    'Terminal voltage [V]',\n",
    "    'X-averaged negative electrode secondary open-circuit potential [V]'\n",
    "])"
   ]
  },
  {
   "cell_type": "code",
   "execution_count": 8,
   "metadata": {},
   "outputs": [
    {
     "data": {
      "application/vnd.jupyter.widget-view+json": {
       "model_id": "38c1d5584ef94e30b3711fa1a78a5a3c",
       "version_major": 2,
       "version_minor": 0
      },
      "text/plain": [
       "interactive(children=(FloatSlider(value=0.0, description='t', max=3.3455896030671757, step=0.03345589603067175…"
      ]
     },
     "metadata": {},
     "output_type": "display_data"
    }
   ],
   "source": [
    "pybamm.QuickPlot([solution, solution_sigmoid], labels=[\"Plett\", \"Sigmoid\"],output_variables=['Negative electrode secondary open-circuit potential [V]',\n",
    "    'Terminal voltage [V]',\n",
    "    'X-averaged negative electrode secondary open-circuit potential [V]']).dynamic_plot()"
   ]
  }
 ],
 "metadata": {
  "kernelspec": {
   "display_name": "venv",
   "language": "python",
   "name": "python3"
  },
  "language_info": {
   "codemirror_mode": {
    "name": "ipython",
    "version": 3
   },
   "file_extension": ".py",
   "mimetype": "text/x-python",
   "name": "python",
   "nbconvert_exporter": "python",
   "pygments_lexer": "ipython3",
   "version": "3.11.0"
  }
 },
 "nbformat": 4,
 "nbformat_minor": 2
}
